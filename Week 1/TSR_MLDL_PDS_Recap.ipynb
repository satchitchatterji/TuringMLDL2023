{
 "cells": [
  {
   "cell_type": "markdown",
   "id": "24c614f0",
   "metadata": {},
   "source": [
    "# Turing Machine and Deep Learning Lecture 1\n",
    "_Author: Satchit Chatterji (satchit.chatterji@gmail.com)_\n",
    "\n",
    "## Notebook 1: Recap of Python for Data Science\n",
    "\n",
    "This notebook acts as a quick recap of some of the concepts encountered during the course *Python for Data Science* that may be relevent in this the current course also.\n",
    "\n",
    "#### Learning outcomes:\n",
    "- Using numpy, matplotlib, pandas\n",
    "- Reading in CSVs\n",
    "- Summary statistics\n",
    "- Cleaning and preprocessing datasets\n",
    "- Data exploration\n",
    "- Data visualization\n",
    "\n",
    "#### Topics of PDS not covered now, since it'll appear later in TMLDL\n",
    "- One-hot encoding\n",
    "- Use K-means\n",
    "- Polynomial fitting\n",
    "- Under+overfitting"
   ]
  },
  {
   "cell_type": "markdown",
   "id": "5771d974",
   "metadata": {},
   "source": [
    "First, we load the data and do what we usually do when we load data!\n",
    "\n",
    "https://www.kaggle.com/datasets/tmdb/tmdb-movie-metadata"
   ]
  },
  {
   "cell_type": "code",
   "execution_count": null,
   "id": "56038aa1",
   "metadata": {
    "id": "SxzgfTjdUZ6x"
   },
   "outputs": [],
   "source": [
    "import numpy as np\n",
    "import matplotlib.pyplot as plt\n",
    "import pandas as pd"
   ]
  },
  {
   "cell_type": "code",
   "execution_count": null,
   "id": "d5b1b71d",
   "metadata": {
    "id": "w60hv7b_YEaM"
   },
   "outputs": [],
   "source": [
    "df = pd.read_csv(\"tmdb_5000_movies.csv\")"
   ]
  },
  {
   "cell_type": "code",
   "execution_count": null,
   "id": "f24a9453",
   "metadata": {
    "colab": {
     "base_uri": "https://localhost:8080/",
     "height": 1000
    },
    "id": "TXoaeV1LqaGI",
    "outputId": "9830d7b6-b8ec-4f7e-bb61-424f719373c7",
    "scrolled": false
   },
   "outputs": [],
   "source": [
    "df"
   ]
  },
  {
   "cell_type": "code",
   "execution_count": null,
   "id": "9a6b315c",
   "metadata": {
    "colab": {
     "base_uri": "https://localhost:8080/",
     "height": 300
    },
    "id": "6XD7icRMYO52",
    "outputId": "77ae57b1-e533-4939-ac0e-697ab60a3c1b",
    "scrolled": true
   },
   "outputs": [],
   "source": [
    "df.describe()"
   ]
  },
  {
   "cell_type": "code",
   "execution_count": null,
   "id": "4851089d",
   "metadata": {
    "colab": {
     "base_uri": "https://localhost:8080/"
    },
    "id": "e7iKQMaoYSgf",
    "outputId": "2ccc04da-a9e6-42dd-f3de-b88c1141752e",
    "scrolled": true
   },
   "outputs": [],
   "source": [
    "df.info()"
   ]
  },
  {
   "cell_type": "code",
   "execution_count": null,
   "id": "1703afd2",
   "metadata": {},
   "outputs": [],
   "source": [
    "df = df.dropna()"
   ]
  },
  {
   "cell_type": "code",
   "execution_count": null,
   "id": "88996c0a",
   "metadata": {},
   "outputs": [],
   "source": [
    "df = df.loc[df[\"budget\"]>0]\n",
    "df = df.loc[df[\"revenue\"]>0]\n",
    "df = df.loc[df[\"runtime\"]>0]"
   ]
  },
  {
   "cell_type": "code",
   "execution_count": null,
   "id": "4fecfead",
   "metadata": {},
   "outputs": [],
   "source": [
    "df.describe()"
   ]
  },
  {
   "cell_type": "markdown",
   "id": "12429c97",
   "metadata": {},
   "source": [
    "## Exploration + Visualization\n",
    "\n",
    "First, let's look at some numeric variables, since they need the least preprocessing."
   ]
  },
  {
   "cell_type": "code",
   "execution_count": null,
   "id": "16494dfd",
   "metadata": {},
   "outputs": [],
   "source": [
    "df = df.sort_values(by=[\"budget\"])\n",
    "df.plot.scatter(x=\"revenue\", y=\"vote_count\")"
   ]
  },
  {
   "cell_type": "code",
   "execution_count": null,
   "id": "403e9828",
   "metadata": {},
   "outputs": [],
   "source": [
    "df.corr()"
   ]
  },
  {
   "cell_type": "code",
   "execution_count": null,
   "id": "df7efa03",
   "metadata": {},
   "outputs": [],
   "source": [
    "import seaborn as sns\n",
    "sns.heatmap(df.drop([\"id\"], axis=1).corr(), annot=True)\n",
    "plt.show()"
   ]
  },
  {
   "cell_type": "code",
   "execution_count": null,
   "id": "cc32d1dc",
   "metadata": {},
   "outputs": [],
   "source": [
    "df[\"roi\"] = df[\"revenue\"]/df[\"budget\"]\n",
    "plt.hist(df[df[\"roi\"]<20][\"roi\"], bins=100)\n",
    "plt.xlim(0,20)\n",
    "plt.show()"
   ]
  },
  {
   "cell_type": "code",
   "execution_count": null,
   "id": "95d639d4",
   "metadata": {},
   "outputs": [],
   "source": [
    "print(max(df[\"roi\"]))\n",
    "df = df.sort_values(by=[\"roi\"], ascending=False)\n",
    "df.iloc[0]"
   ]
  },
  {
   "cell_type": "markdown",
   "id": "b89fa067",
   "metadata": {},
   "source": [
    "### Non-numeric data"
   ]
  },
  {
   "cell_type": "markdown",
   "id": "12951b06",
   "metadata": {
    "id": "6XptFSVMq2A-"
   },
   "source": [
    "Let's look at genres now. We first should process the strings in the genre column to a list of useful genre names (we don't really care about the ids for now)."
   ]
  },
  {
   "cell_type": "code",
   "execution_count": null,
   "id": "f649f24e",
   "metadata": {},
   "outputs": [],
   "source": [
    "df[\"genres\"].iloc[0]"
   ]
  },
  {
   "cell_type": "code",
   "execution_count": null,
   "id": "332f615d",
   "metadata": {
    "id": "lICpl2WZYWSl"
   },
   "outputs": [],
   "source": [
    "def process_genre_string(gs):\n",
    "    gs = eval(gs)\n",
    "    gs = [x['name'] for x in gs]\n",
    "    return gs\n",
    "\n",
    "processed_genres = []\n",
    "for index, row in df.iterrows():\n",
    "    processed_genres.append(process_genre_string(row[\"genres\"]))\n",
    "\n",
    "df[\"proc_genres\"] = processed_genres"
   ]
  },
  {
   "cell_type": "code",
   "execution_count": null,
   "id": "557012a1",
   "metadata": {
    "colab": {
     "base_uri": "https://localhost:8080/",
     "height": 424
    },
    "id": "MfqzNnYXZOpQ",
    "outputId": "2bcf6f90-3197-4030-ed4f-d046cba967db",
    "scrolled": false
   },
   "outputs": [],
   "source": [
    "df[[\"proc_genres\", \"title\"]]"
   ]
  },
  {
   "cell_type": "markdown",
   "id": "bca87f41",
   "metadata": {
    "id": "ZKGjYIyirHqg"
   },
   "source": [
    "1. Unique labels?\n",
    "2. Histogram of genres in dataset?\n",
    "3. ...?"
   ]
  },
  {
   "cell_type": "code",
   "execution_count": null,
   "id": "4c1562fc",
   "metadata": {
    "colab": {
     "base_uri": "https://localhost:8080/"
    },
    "id": "sAnL9d5wcTK5",
    "outputId": "ec9826d2-e45e-4e4d-9626-a31b28d6e7c1"
   },
   "outputs": [],
   "source": [
    "all_genres = []\n",
    "for genres in df[\"proc_genres\"]:\n",
    "    all_genres += genres\n",
    "\n",
    "print(set(all_genres))"
   ]
  },
  {
   "cell_type": "code",
   "execution_count": null,
   "id": "dd736d72",
   "metadata": {
    "colab": {
     "base_uri": "https://localhost:8080/"
    },
    "id": "_Hn47B7Tc14s",
    "outputId": "de36fa95-8091-4e04-e586-6c522a34f8cb"
   },
   "outputs": [],
   "source": [
    "genre_counts = {genre:all_genres.count(genre) for genre in set(all_genres)}\n",
    "genre_counts"
   ]
  },
  {
   "cell_type": "code",
   "execution_count": null,
   "id": "f1d37db1",
   "metadata": {
    "colab": {
     "base_uri": "https://localhost:8080/",
     "height": 656
    },
    "id": "TwUNhaEJdcMD",
    "outputId": "baf8396e-d423-4e71-d817-df2505352a67"
   },
   "outputs": [],
   "source": [
    "genre_counts = dict(sorted(genre_counts.items(), key=lambda item: item[1], reverse=True))\n",
    "xs = list(range(len(genre_counts)))\n",
    "plt.figure(figsize=(10,10))\n",
    "plt.bar(xs, genre_counts.values())\n",
    "plt.xticks(xs, labels=genre_counts.keys(), rotation=90)\n",
    "plt.show()"
   ]
  },
  {
   "cell_type": "code",
   "execution_count": null,
   "id": "7394ebd6",
   "metadata": {
    "scrolled": false
   },
   "outputs": [],
   "source": [
    "genre_rev = {k:list() for k in genre_counts.keys()}\n",
    "genre_rev_mean = {k:0 for k in genre_counts.keys()}\n",
    "genre_rev_std = {k:0 for k in genre_counts.keys()}\n",
    "\n",
    "\n",
    "for index, row in df.iterrows():\n",
    "    for genre in row[\"proc_genres\"]:\n",
    "        genre_rev[genre].append(row[\"roi\"])\n",
    "\n",
    "for genre in genre_rev.keys():\n",
    "    genre_rev_mean[genre] = np.mean(genre_rev[genre])\n",
    "    genre_rev_std[genre]  = np.std(genre_rev[genre])\n",
    "        \n",
    "plt.bar(xs, genre_rev_mean.values())\n",
    "# plt.errorbar(xs, genre_rev_mean.values(), yerr=list(genre_rev_std.values()), linestyle=\"None\")\n",
    "\n",
    "plt.xticks(xs, labels=genre_counts.keys(), rotation=90)\n",
    "plt.show()"
   ]
  }
 ],
 "metadata": {
  "kernelspec": {
   "display_name": "Python 3 (ipykernel)",
   "language": "python",
   "name": "python3"
  },
  "language_info": {
   "codemirror_mode": {
    "name": "ipython",
    "version": 3
   },
   "file_extension": ".py",
   "mimetype": "text/x-python",
   "name": "python",
   "nbconvert_exporter": "python",
   "pygments_lexer": "ipython3",
   "version": "3.10.7"
  }
 },
 "nbformat": 4,
 "nbformat_minor": 5
}
